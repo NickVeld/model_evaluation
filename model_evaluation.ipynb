{
 "cells": [
  {
   "cell_type": "code",
   "execution_count": null,
   "metadata": {},
   "outputs": [],
   "source": [
     "%%bash\n",
     "#Uncomment the lines below in Colab\n",
     "#set -e\n",
     "#git clone https://github.com/NickVeld/model_evaluation.git\n",
     "#cd model_evaluation\n",
     "#git checkout for_virus_models\n",
     "#cp ./* .."
   ]
  }
 ],
 "metadata": {
  "kernelspec": {
   "display_name": "Python 3",
   "language": "python",
   "name": "python3"
  },
  "language_info": {
   "codemirror_mode": {
    "name": "ipython",
    "version": 3
   },
   "file_extension": ".py",
   "mimetype": "text/x-python",
   "name": "python",
   "nbconvert_exporter": "python",
   "pygments_lexer": "ipython2",
   "version": "3.7.3"
  }
 },
 "nbformat": 4,
 "nbformat_minor": 2
}
